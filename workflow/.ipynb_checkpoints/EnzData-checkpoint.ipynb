{
 "cells": [
  {
   "cell_type": "code",
   "execution_count": 2,
   "id": "718c1a7b",
   "metadata": {},
   "outputs": [],
   "source": [
    "import numpy as np\n",
    "import pandas as pd\n",
    "from matplotlib import pyplot as plt\n",
    "import seaborn as sns\n",
    "from brendapyrser import BRENDA\n",
    "import pickle"
   ]
  },
  {
   "cell_type": "code",
   "execution_count": 5,
   "id": "4a462aed",
   "metadata": {},
   "outputs": [
    {
     "name": "stdout",
     "output_type": "stream",
     "text": [
      "64\n"
     ]
    }
   ],
   "source": [
    "tp_ec = []\n",
    "with open('../data/transporter_ec.txt') as f:\n",
    "    lines = f.readlines()\n",
    "    for l in lines:\n",
    "        tp_ec.append( l.split(' ')[0].strip() )\n",
    "print(len(tp_ec))"
   ]
  },
  {
   "cell_type": "code",
   "execution_count": 4,
   "id": "6a547d32",
   "metadata": {},
   "outputs": [],
   "source": [
    "brenda = BRENDA('../../../local_data/brenda.txt')"
   ]
  },
  {
   "cell_type": "code",
   "execution_count": 22,
   "id": "8df3c57f",
   "metadata": {},
   "outputs": [
    {
     "data": {
      "text/plain": [
       "{}"
      ]
     },
     "execution_count": 22,
     "metadata": {},
     "output_type": "execute_result"
    }
   ],
   "source": [
    "r = brenda.reactions.get_by_id( tp_ec[40])\n",
    "r.KMvalues"
   ]
  },
  {
   "cell_type": "code",
   "execution_count": null,
   "id": "c7630d68",
   "metadata": {},
   "outputs": [],
   "source": [
    "def get_km(ec):\n",
    "    out = []\n",
    "    r = brenda.reactions.get_by_id( ec )\n",
    "    lbdata = r.KMvalues\n",
    "    "
   ]
  }
 ],
 "metadata": {
  "kernelspec": {
   "display_name": "Python 3 (ipykernel)",
   "language": "python",
   "name": "python3"
  },
  "language_info": {
   "codemirror_mode": {
    "name": "ipython",
    "version": 3
   },
   "file_extension": ".py",
   "mimetype": "text/x-python",
   "name": "python",
   "nbconvert_exporter": "python",
   "pygments_lexer": "ipython3",
   "version": "3.8.10"
  }
 },
 "nbformat": 4,
 "nbformat_minor": 5
}
