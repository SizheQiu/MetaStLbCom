{
 "cells": [
  {
   "cell_type": "markdown",
   "id": "1746c957",
   "metadata": {},
   "source": [
    "# Test ecpFBA\n",
    "* max Growth\n",
    "* min sum( ec_i*v_i) "
   ]
  },
  {
   "cell_type": "code",
   "execution_count": null,
   "id": "7a392267",
   "metadata": {},
   "outputs": [],
   "source": [
    "st_ecdict = {}\n",
    "for r in st.reactions:\n",
    "    st_ecdict[ r.reverse_variable.name] = 1\n",
    "    st_ecdict[r.forward_variable.name] = 1\n",
    "\n",
    "with st:\n",
    "    st_m = init_medium( 'st',ic, st_params )\n",
    "    st.medium = st_m\n",
    "    st_sol = ecpfba(st, st_ecdict)\n",
    "    print( 'Growth rate = '+ str(st_sol['Growth']) )"
   ]
  },
  {
   "cell_type": "code",
   "execution_count": null,
   "id": "127c0745",
   "metadata": {},
   "outputs": [],
   "source": [
    "st_enz = []\n",
    "for r in st.reactions:\n",
    "    if r.gene_reaction_rule == '' or r.gene_reaction_rule == 'spontaneous':\n",
    "        continue\n",
    "    if '(' not in r.gene_reaction_rule:\n",
    "        if 'or' in r.gene_reaction_rule:\n",
    "            enz_list = r.gene_reaction_rule.split('or')\n",
    "            for enz in enz_list:\n",
    "                if enz.strip() == 'spontaneous':\n",
    "                    continue\n",
    "                st_enz.append({'enzyme':enz.strip(),'reaction':r.id,'type':'isozyme'})\n",
    "        elif 'and' in r.gene_reaction_rule:\n",
    "            enz_list = r.gene_reaction_rule.split('and')\n",
    "            for enz in enz_list:\n",
    "                if enz.strip() == 'spontaneous':\n",
    "                    continue\n",
    "                st_enz.append({'enzyme':enz.strip(),'reaction':r.id,'type':'subunit'})\n",
    "        else:\n",
    "            st_enz.append({'enzyme':r.gene_reaction_rule.strip(),'reaction':r.id,'type':'single'})\n",
    "    else:\n",
    "        if 'or (' in r.gene_reaction_rule:\n",
    "            enz_list = r.gene_reaction_rule.split('or')\n",
    "            isosub_ind = 0\n",
    "            for enz in enz_list:\n",
    "                if '(' not in enz:\n",
    "                    if enz.strip() == 'spontaneous':\n",
    "                        continue\n",
    "                    st_enz.append({'enzyme':enz.strip(),'reaction':r.id,'type':'isozyme'})\n",
    "                else:\n",
    "                    enz = enz.replace('(','').replace(')','').strip()\n",
    "                    subiso_list = enz.split('and')\n",
    "                    for subiso in subiso_list:\n",
    "                        st_enz.append({'enzyme':subiso.strip(),'reaction':r.id,'type':'subunit_iso'+str(isosub_ind)})\n",
    "                isosub_ind += 1\n",
    "        else:\n",
    "            st_enz.append({'enzyme':r.gene_reaction_rule.strip(),'reaction':r.id,'type':'complex'})     "
   ]
  },
  {
   "cell_type": "code",
   "execution_count": null,
   "id": "a3bc38ce",
   "metadata": {},
   "outputs": [],
   "source": [
    "lb_enz = []\n",
    "for r in lb.reactions:\n",
    "    if r.gene_reaction_rule == '' or r.gene_reaction_rule == 'spontaneous':\n",
    "        continue\n",
    "    if '(' not in r.gene_reaction_rule:\n",
    "        if 'or' in r.gene_reaction_rule:\n",
    "            enz_list = r.gene_reaction_rule.split('or')\n",
    "            for enz in enz_list:\n",
    "                if enz.strip() == 'spontaneous':\n",
    "                    continue\n",
    "                lb_enz.append({'enzyme':enz.strip(),'reaction':r.id,'type':'isozyme'})\n",
    "        elif 'and' in r.gene_reaction_rule:\n",
    "            enz_list = r.gene_reaction_rule.split('and')\n",
    "            for enz in enz_list:\n",
    "                if enz.strip() == 'spontaneous':\n",
    "                    continue\n",
    "                lb_enz.append({'enzyme':enz.strip(),'reaction':r.id,'type':'subunit'})\n",
    "        else:\n",
    "            lb_enz.append({'enzyme':r.gene_reaction_rule.strip(),'reaction':r.id,'type':'single'})\n",
    "    else:\n",
    "        if 'or (' in r.gene_reaction_rule:\n",
    "            enz_list = r.gene_reaction_rule.split('or')\n",
    "            isosub_ind = 0\n",
    "            for enz in enz_list:\n",
    "                if '(' not in enz:\n",
    "                    if enz.strip() == 'spontaneous':\n",
    "                        continue\n",
    "                    lb_enz.append({'enzyme':enz.strip(),'reaction':r.id,'type':'isozyme'})\n",
    "                else:\n",
    "                    enz = enz.replace('(','').replace(')','').strip()\n",
    "                    subiso_list = enz.split('and')\n",
    "                    for subiso in subiso_list:\n",
    "                        lb_enz.append({'enzyme':subiso.strip(),'reaction':r.id,'type':'subunit_iso'+str(isosub_ind)})\n",
    "                isosub_ind += 1\n",
    "        else:\n",
    "            lb_enz.append({'enzyme':r.gene_reaction_rule.strip(),'reaction':r.id,'type':'complex'})     "
   ]
  },
  {
   "cell_type": "code",
   "execution_count": null,
   "id": "4f0a8e47",
   "metadata": {},
   "outputs": [],
   "source": [
    "stenz_pd = pd.DataFrame(st_enz)\n",
    "lbenz_pd = pd.DataFrame(lb_enz)\n",
    "\n",
    "stnr_records = SeqIO.parse( '../data/MAGs/st_all/st_nr.faa', \"fasta\")\n",
    "lbnr_records = SeqIO.parse( '../data/MAGs/lb_all/lb_nr.faa', \"fasta\")\n",
    "st_seqs,lb_seqs = {},{}\n",
    "for r in stnr_records:\n",
    "    st_seqs[ str(r.id).replace('.','_') ] = str(r.seq).replace('*','')\n",
    "for r in lbnr_records:\n",
    "    lb_seqs[ str(r.id).replace('.','_') ] = str(r.seq).replace('*','')"
   ]
  },
  {
   "cell_type": "code",
   "execution_count": null,
   "id": "58d9f0a7",
   "metadata": {},
   "outputs": [],
   "source": [
    "st_enzseqs, lb_enzseqs =[],[]\n",
    "for i in range(len(stenz_pd['enzyme'])):\n",
    "    st_enzseqs.append( st_seqs[list(stenz_pd['enzyme'])[i]] )\n",
    "for i in range(len(lbenz_pd['enzyme'])):\n",
    "    lb_enzseqs.append( lb_seqs[list(lbenz_pd['enzyme'])[i]] )    \n",
    "stenz_pd['seq']=st_enzseqs\n",
    "lbenz_pd['seq']=lb_enzseqs"
   ]
  },
  {
   "cell_type": "code",
   "execution_count": null,
   "id": "88ef348d",
   "metadata": {},
   "outputs": [],
   "source": [
    "stenz_pd.to_csv('../data/GSMMs/st_gpr.csv',index=None)\n",
    "lbenz_pd.to_csv('../data/GSMMs/lb_gpr.csv',index=None)"
   ]
  }
 ],
 "metadata": {
  "kernelspec": {
   "display_name": "Python 3 (ipykernel)",
   "language": "python",
   "name": "python3"
  },
  "language_info": {
   "codemirror_mode": {
    "name": "ipython",
    "version": 3
   },
   "file_extension": ".py",
   "mimetype": "text/x-python",
   "name": "python",
   "nbconvert_exporter": "python",
   "pygments_lexer": "ipython3",
   "version": "3.8.10"
  }
 },
 "nbformat": 4,
 "nbformat_minor": 5
}
