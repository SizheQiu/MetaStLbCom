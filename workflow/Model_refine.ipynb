{
 "cells": [
  {
   "cell_type": "code",
   "execution_count": 1,
   "id": "3332cfd0",
   "metadata": {},
   "outputs": [],
   "source": [
    "import cobra\n",
    "from cobra import Model, Reaction, Metabolite\n",
    "from cobra.medium import minimal_medium\n",
    "import pandas as pd\n",
    "import numpy as np\n",
    "import seaborn as sns\n",
    "import matplotlib.pyplot as plt\n",
    "from math import exp,log\n",
    "from matplotlib_venn import venn3,venn2\n",
    "from functions import *\n",
    "from Bio import SeqIO\n",
    "from Bio.Seq import Seq\n",
    "from Bio.SeqRecord import SeqRecord\n",
    "from cobra.flux_analysis import production_envelope"
   ]
  },
  {
   "cell_type": "markdown",
   "id": "d1c230b8",
   "metadata": {},
   "source": [
    "# 0. Load GSMMs"
   ]
  },
  {
   "cell_type": "code",
   "execution_count": 3,
   "id": "9eb469c9",
   "metadata": {},
   "outputs": [],
   "source": [
    "ref_lb = cobra.io.read_sbml_model('../data/GSMMs/Lactobacillus_delbrueckii_subsp_bulgaricus_ATCC_11842.xml')\n",
    "ref_st = cobra.io.read_sbml_model('../data/GSMMs/Streptococcus_thermophilus_LMG_18311.xml')\n",
    "st_ch8 = cobra.io.read_sbml_model('../data/GSMMs/ST_CH8.xml')"
   ]
  },
  {
   "cell_type": "code",
   "execution_count": 4,
   "id": "e1d7580f",
   "metadata": {},
   "outputs": [],
   "source": [
    "st = cobra.io.read_sbml_model('../data/GSMMs/st_raw.xml')\n",
    "lb = cobra.io.read_sbml_model('../data/GSMMs/lb_raw.xml')\n",
    "# st = cobra.io.read_sbml_model('../data/GSMMs/st.xml')\n",
    "# lb = cobra.io.read_sbml_model('../data/GSMMs/lb.xml')"
   ]
  },
  {
   "cell_type": "code",
   "execution_count": 5,
   "id": "4e7d03ab",
   "metadata": {},
   "outputs": [],
   "source": [
    "milkAA = pd.read_csv('../data/GSMMs/milkAA.csv')\n",
    "# milk_desnity = 1.03 #g/ml\n",
    "# milk_V = (100/1.03)/1000 #L\n",
    "# concs = []\n",
    "# for i in range(len(milkAA['aa'])):\n",
    "#     temp_conc = (float(list(milkAA['concentration(g/100 g milk)'])[i])/aa_mass[ list(milkAA['aa'])[i] ])*1000/milk_V\n",
    "#     concs.append(temp_conc)\n",
    "# milkAA['conc(mmol/L)'] = concs\n",
    "# milkAA.to_csv('../data/GSMMs/milkAA.csv',index=None)"
   ]
  },
  {
   "cell_type": "code",
   "execution_count": 6,
   "id": "782095a7",
   "metadata": {},
   "outputs": [
    {
     "name": "stdout",
     "output_type": "stream",
     "text": [
      "{'his__L': 155.15456, 'ile__L': 131.17291999999998, 'leu__L': 131.17291999999998, 'lys__L': 147.1955, 'met__L': 149.21134, 'phe__L': 165.18913999999998, 'thr__L': 119.11916, 'trp__L': 204.22518, 'val__L': 117.14634, 'ala__L': 89.09318, 'arg__L': 175.2089, 'asn__L': 132.11792, 'asp__L': 132.09474, 'cys__L': 121.15818, 'gln__L': 146.1445, 'glu__L': 146.12132, 'gly': 75.0666, 'pro__L': 115.13046, 'ser__L': 105.09258, 'tyr__L': 181.18854}\n"
     ]
    }
   ],
   "source": [
    "milkAA_free = milkAA[milkAA['type']=='free'].reset_index().drop(['index'],axis=1)\n",
    "milkAA_total = milkAA[milkAA['type']=='total'].reset_index().drop(['index'],axis=1)\n",
    "aas = list(milkAA_free['aa'])\n",
    "aa_mass = {aa:st.metabolites.get_by_id( aa+'_c' ).formula_weight for aa in aas}\n",
    "print(aa_mass)"
   ]
  },
  {
   "cell_type": "markdown",
   "id": "9f4de174",
   "metadata": {},
   "source": [
    "# 1. Add missing reactions"
   ]
  },
  {
   "cell_type": "code",
   "execution_count": 7,
   "id": "9f345498",
   "metadata": {},
   "outputs": [],
   "source": [
    "# lac__L_e = Metabolite('lac__L_e','C3H5O3','L-Lactate',-1,'C_e')\n",
    "# diact_e = Metabolite('diact_e','C4H6O2','Diacetyl C4H6O2',0,'C_e')\n",
    "# for_e = Metabolite('for_e','CHO2','Formate',-1,'C_e')\n",
    "# ac_e = Metabolite('ac_e','C2H3O2','Acetate',-1,'C_e')\n",
    "# pyr_e = Metabolite('pyr_e','C3H3O3','Pyruvate',-1,'C_e')\n",
    "# ade_e = Metabolite('ade_e','C5H5N5','Adenine',0,'C_e')\n",
    "# succ_e = Metabolite('succ_e','C4H4O4','Succinate',-2,'C_e')\n",
    "# _4hba_e = Metabolite('4hba_e','C7H8O2','4-Hydroxy-benzyl alcohol',0,'C_e')\n",
    "# _3mob_e = Metabolite('3mob_e','C5H7O3','3-Methyl-2-oxobutanoate',0,'C_e')\n",
    "# _3mop_e = Metabolite('3mop_e','C6H9O3','(S)-3-Methyl-2-oxopentanoate',0,'C_e')\n",
    "# _4mop_e = Metabolite('4mop_e','C6H9O3','4-Methyl-2-oxopentanoate',0,'C_e')\n",
    "\n",
    "# EX_ade_e = Reaction('EX_ade_e','Adenine exchange','',-1000.0,1000.0)\n",
    "# ADEt2 = Reaction('ADEt2','Adenine transport in via proton symport','',-1000,1000.0)\n",
    "\n",
    "# EX_pyr_e = Reaction('EX_pyr_e','Pyruvate exchange','',-1000.0,1000.0)\n",
    "# PYRt2 = Reaction('PYRt2','Pyruvate transport in via proton symport','',-1000.0,1000.0)\n",
    "# EX_for_e = Reaction('EX_for_e','Formate exchange','',-1000.0,1000.0)\n",
    "# FORt2 = Reaction('FORt2','Formate transport in via proton symport','',-1000.0,1000.0)\n",
    "# EX_ac_e = Reaction('EX_ac_e','Acetate exchange','',-1000.0,1000.0)\n",
    "# ACt2r = Reaction('ACt2r','Acetate reversible transport via proton symport','',-1000.0,1000.0)\n",
    "\n",
    "# DIACTt = Reaction('DIACTt','Diacetyl diffusion','',-1000.0,1000.0)\n",
    "# L_LACt2r = Reaction('L_LACt2r','L lactate reversible transport via proton symport','',-1000.0,1000.0)\n",
    "# EX_diact_e = Reaction('EX_diact_e','Diacetyl exchange','',-1000.0,1000.0)\n",
    "# EX_lac__L_e = Reaction('EX_lac__L_e','L-Lactate exchange','',-1000.0,1000.0)\n",
    "\n",
    "# PDH = Reaction('PDH','Pyruvate dehydrogenase','',0.0,1000.0)\n",
    "\n",
    "# GALKr = Reaction('GALKr','Galactokinase','',0.0,1000.0)\n",
    "# GALKr.gene_reaction_rule='s1_NODE_7_length_66682_cov_834_608543_35'\n",
    "\n",
    "# CITt2r = Reaction('CITt2r','Citrate reversible transport via symport','',-1000.0,1000.0)\n",
    "\n",
    "# SUCCt = Reaction('SUCCt','Succinate transport via diffusion','',-1000.0,1000.0)\n",
    "# EX_succ_e = Reaction('EX_succ_e','R_EX_succ_e','',-1000.0,1000.0)\n",
    "# _4HBAt = Reaction('4HBAt','MNXR68734','',-1000.0,1000.0)\n",
    "# EX_4hba_e = Reaction('EX_4hba_e','R_EX_4hba_e','',-1000.0,1000.0)\n",
    "\n",
    "# GALT = Reaction('GALT','Galactose 1 phosphate uridylyltransferase','',-1000.0,1000.0)\n",
    "# ACTNdiff = Reaction('ACTNdiff','R acetoin diffusion','',-1000.0,1000.0)\n",
    "\n",
    "# EX_3mob_e = Reaction('EX_3mob_e','R_EX_3mob_e','',-1000.0,1000.0)\n",
    "# EX_3mop_e = Reaction('EX_3mop_e','R_EX_3mop_e','',-1000.0,1000.0)\n",
    "# EX_4mop_e = Reaction('EX_4mop_e','R_EX_4mop_e','',-1000.0,1000.0)\n",
    "# _3MOBte  = Reaction('3MOBte','Transport of 3-methyl-2-oxobutanoate','',-1000.0,1000.0)\n",
    "# _3MOPte  = Reaction('3MOPte','Transport of (S)-3-Methyl-2-oxopentanoate','',-1000.0,1000.0)\n",
    "# _4MOPte  = Reaction('4MOPte','Transport of 4-Methyl-2-oxopentanoate','',-1000.0,1000.0)"
   ]
  },
  {
   "cell_type": "code",
   "execution_count": 8,
   "id": "e651942d",
   "metadata": {},
   "outputs": [],
   "source": [
    "# lb.add_metabolites([ for_e,lac__L_e,ac_e,succ_e,_4hba_e, _3mob_e,_3mop_e,_4mop_e])\n",
    "# st.add_metabolites([ pyr_e,lac__L_e,diact_e,ade_e,ac_e, _3mob_e,_3mop_e,_4mop_e ])\n",
    "# lb.add_reactions([ EX_for_e, FORt2,L_LACt2r,EX_lac__L_e,EX_ac_e,ACt2r, ADEt2,PDH, CITt2r,\n",
    "#                  SUCCt,EX_succ_e,_4HBAt,EX_4hba_e, GALT, ACTNdiff,EX_3mob_e,EX_3mop_e,EX_4mop_e,\n",
    "#                  _3MOBte,_3MOPte,_4MOPte])\n",
    "# st.add_reactions([ EX_pyr_e,PYRt2, L_LACt2r,EX_lac__L_e,DIACTt,EX_diact_e,EX_ade_e, ADEt2,\n",
    "#         EX_ac_e,ACt2r,GALKr, CITt2r, ACTNdiff,EX_3mob_e,EX_3mop_e,EX_4mop_e,_3MOBte,_3MOPte,_4MOPte])\n",
    "\n",
    "\n",
    "# lb.reactions.EX_for_e.build_reaction_from_string('for_e <=>')\n",
    "# lb.reactions.FORt2.build_reaction_from_string('for_e + h_e <=> for_c + h_c')\n",
    "# lb.reactions.L_LACt2r.build_reaction_from_string('h_e + lac__L_e <=> h_c + lac__L_c')\n",
    "# lb.reactions.EX_lac__L_e.build_reaction_from_string('lac__L_e <=>')\n",
    "# lb.reactions.EX_ac_e.build_reaction_from_string('ac_e <=>')\n",
    "# lb.reactions.ACt2r.build_reaction_from_string('ac_e + h_e <=> ac_c + h_c')\n",
    "# lb.reactions.ADEt2.build_reaction_from_string('ade_e + h_e <=> ade_c + h_c')\n",
    "# lb.reactions.PDH.build_reaction_from_string('coa_c + nad_c + pyr_c --> accoa_c + co2_c + nadh_c')\n",
    "# lb.reactions.CITt2r.build_reaction_from_string( 'cit_e + h_e <=> cit_c + h_c' )\n",
    "# lb.reactions.SUCCt.build_reaction_from_string('succ_e <=> succ_c')\n",
    "# lb.reactions.EX_succ_e.build_reaction_from_string('succ_e <=> ')\n",
    "# lb.reactions.get_by_id('4HBAt').build_reaction_from_string('4hba_e <=> 4hba_c')\n",
    "# lb.reactions.EX_4hba_e.build_reaction_from_string('4hba_e <=> ')\n",
    "# lb.reactions.GALT.build_reaction_from_string('gal1p_c + h_c + utp_c <=> ppi_c + udpgal_c')\n",
    "# lb.reactions.ACTNdiff.build_reaction_from_string('actn__R_e <=> actn__R_c')\n",
    "# lb.reactions.EX_3mob_e.build_reaction_from_string('3mob_e <=>')\n",
    "# lb.reactions.EX_3mop_e.build_reaction_from_string('3mop_e <=>')\n",
    "# lb.reactions.EX_4mop_e.build_reaction_from_string('4mop_e <=>')\n",
    "# lb.reactions.get_by_id('3MOBte').build_reaction_from_string('3mob_c <=> 3mob_e')\n",
    "# lb.reactions.get_by_id('3MOPte').build_reaction_from_string('3mop_c <=> 3mop_e')\n",
    "# lb.reactions.get_by_id('4MOPte').build_reaction_from_string('4mop_c <=> 4mop_e')\n",
    "\n",
    "# st.reactions.EX_pyr_e.build_reaction_from_string('pyr_e <=>')\n",
    "# st.reactions.PYRt2.build_reaction_from_string('h_e + pyr_e <=> h_c + pyr_c')\n",
    "# st.reactions.L_LACt2r.build_reaction_from_string('h_e + lac__L_e <=> h_c + lac__L_c')\n",
    "# st.reactions.EX_lac__L_e.build_reaction_from_string('lac__L_e <=>')\n",
    "# st.reactions.EX_diact_e.build_reaction_from_string('diact_e <=>')\n",
    "# st.reactions.DIACTt.build_reaction_from_string('diact_c <=> diact_e')\n",
    "# st.reactions.EX_ade_e.build_reaction_from_string('ade_e <=>')\n",
    "# st.reactions.ADEt2.build_reaction_from_string('ade_e + h_e <=> ade_c + h_c')\n",
    "# st.reactions.EX_ac_e.build_reaction_from_string('ac_e <=>')\n",
    "# st.reactions.ACt2r.build_reaction_from_string('ac_e + h_e <=> ac_c + h_c')\n",
    "# st.reactions.GALKr.build_reaction_from_string('atp_c + gal_c <=> adp_c + gal1p_c + h_c')\n",
    "# st.reactions.CITt2r.build_reaction_from_string( 'cit_e + h_e <=> cit_c + h_c' )\n",
    "# st.reactions.ACTNdiff.build_reaction_from_string('actn__R_e <=> actn__R_c')\n",
    "# st.reactions.EX_3mob_e.build_reaction_from_string('3mob_e <=>')\n",
    "# st.reactions.EX_3mop_e.build_reaction_from_string('3mop_e <=>')\n",
    "# st.reactions.EX_4mop_e.build_reaction_from_string('4mop_e <=>')\n",
    "# st.reactions.get_by_id('3MOBte').build_reaction_from_string('3mob_c <=> 3mob_e')\n",
    "# st.reactions.get_by_id('3MOPte').build_reaction_from_string('3mop_c <=> 3mop_e')\n",
    "# st.reactions.get_by_id('4MOPte').build_reaction_from_string('4mop_c <=> 4mop_e')"
   ]
  },
  {
   "cell_type": "markdown",
   "id": "d569b246",
   "metadata": {},
   "source": [
    "# 2. Complete pentose phosphate pathway for st and lb\n",
    "* add TKT1/2,TALA to lb\n",
    "* add GND,PGL,G6PDH2r to st"
   ]
  },
  {
   "cell_type": "code",
   "execution_count": 9,
   "id": "a4bd3e14",
   "metadata": {},
   "outputs": [],
   "source": [
    "# _6pgc_c = Metabolite('6pgc_c','C6H10O10P','6-Phospho-D-gluconate',-3,'C_c')#st\n",
    "# _6pgl_c = Metabolite('6pgl_c','C6H9O9P','6-phospho-D-glucono-1,5-lactone',-2,'C_c')#st\n",
    "# s7p_c = Metabolite('s7p_c','C7H13O10P','Sedoheptulose 7-phosphate',-2,'C_c')\n",
    "\n",
    "\n",
    "# TKT1 = Reaction('TKT1','Transketolase','',-1000.0,1000.0)\n",
    "# TKT2 = Reaction('TKT2','Transketolase','',-1000.0,1000.0)\n",
    "# TALA = Reaction('TALA','Transaldolase','',-1000.0,1000.0)\n",
    "# GND = Reaction('GND','Phosphogluconate dehydrogenase','',0.0,1000.0)\n",
    "# PGL = Reaction('PGL','6-phosphogluconolactonase','',0.0,1000.0)\n",
    "# G6PDH2r = Reaction('G6PDH2r','Glucose 6-phosphate dehydrogenase','',-1000.0,1000.0)\n",
    "# st.add_metabolites([_6pgc_c,_6pgl_c])\n",
    "# lb.add_metabolites([s7p_c])\n",
    "# st.add_reactions([GND,PGL,G6PDH2r])\n",
    "# lb.add_reactions([TKT1,TKT2,TALA])\n",
    "\n",
    "# lb.reactions.TKT1.build_reaction_from_string('r5p_c + xu5p__D_c <=> g3p_c + s7p_c')\n",
    "# lb.reactions.TKT2.build_reaction_from_string('e4p_c + xu5p__D_c <=> f6p_c + g3p_c')\n",
    "# lb.reactions.TALA.build_reaction_from_string('g3p_c + s7p_c <=> e4p_c + f6p_c')\n",
    "# st.reactions.GND.build_reaction_from_string('6pgc_c + nadp_c --> co2_c + nadph_c + ru5p__D_c')\n",
    "# st.reactions.PGL.build_reaction_from_string('6pgl_c + h2o_c --> 6pgc_c + h_c')\n",
    "# st.reactions.G6PDH2r.build_reaction_from_string('g6p_c + nadp_c <=> 6pgl_c + h_c + nadph_c')"
   ]
  },
  {
   "cell_type": "markdown",
   "id": "9c1f286a",
   "metadata": {},
   "source": [
    "# 3. Add amino acid exportation via proton symport"
   ]
  },
  {
   "cell_type": "code",
   "execution_count": 10,
   "id": "3c527712",
   "metadata": {},
   "outputs": [],
   "source": [
    "# for aa in aa_mass.keys():\n",
    "#     aa_name  = aa.split('__L')[0]\n",
    "#     rxn_id = aa_name.upper() + 'c2e'\n",
    "#     st.add_reactions([Reaction(rxn_id,'','',0.0,1000.0)])\n",
    "#     lb.add_reactions([Reaction(rxn_id,'','',0.0,1000.0)])\n",
    "#     rxn_eqn = 'h_c + '+ (aa+'_c') + ' --> h_e + ' + (aa+'_e')\n",
    "#     lb.reactions.get_by_id(rxn_id).build_reaction_from_string(rxn_eqn)\n",
    "#     st.reactions.get_by_id(rxn_id).build_reaction_from_string(rxn_eqn)"
   ]
  },
  {
   "cell_type": "markdown",
   "id": "64ec5b80",
   "metadata": {},
   "source": [
    "# 4. Add EM (endogenous metabolism) and set objective as Growth - EM"
   ]
  },
  {
   "cell_type": "code",
   "execution_count": 11,
   "id": "d395a3d6",
   "metadata": {},
   "outputs": [],
   "source": [
    "# for rxn in (st.reactions.query('TECA') + st.reactions.query('_BS')):\n",
    "#     if not rxn.reversibility:\n",
    "#         rxn.lower_bound = -1000.0\n",
    "#         rxn.upper_bound = 1000.0\n",
    "        \n",
    "# for rxn in (lb.reactions.query('TECA') + lb.reactions.query('_BS')):\n",
    "#     if not rxn.reversibility:\n",
    "#         rxn.lower_bound = -1000.0\n",
    "#         rxn.upper_bound = 1000.0\n",
    "\n",
    "# st_growth_r, st_growth_p = st.reactions.Growth.reaction.split('-->')\n",
    "# lb_growth_r, lb_growth_p = lb.reactions.Growth.reaction.split('-->')\n",
    "# EM_st, EM_lb = Reaction('EM','Endogenous metabolism','',0.0,1000.0), Reaction('EM','Endogenous metabolism','',0.0,1000.0)\n",
    "# st.add_reactions([ EM_st ])\n",
    "# lb.add_reactions([ EM_lb ])\n",
    "# st.reactions.EM.build_reaction_from_string( st_growth_p.strip() + ' --> '+ st_growth_r.strip() )\n",
    "# lb.reactions.EM.build_reaction_from_string( lb_growth_p.strip() + ' --> '+ lb_growth_r.strip() )\n",
    "# st.objective = st.problem.Objective( st.reactions.Growth.flux_expression - st.reactions.EM.flux_expression,\n",
    "#                                    direction='max')\n",
    "# lb.objective = lb.problem.Objective( lb.reactions.Growth.flux_expression - lb.reactions.EM.flux_expression,\n",
    "#                                    direction='max')"
   ]
  },
  {
   "cell_type": "markdown",
   "id": "1d454bcd",
   "metadata": {},
   "source": [
    "# 5. Remove metabolites and reactions"
   ]
  },
  {
   "cell_type": "code",
   "execution_count": 12,
   "id": "9a9f6eb6",
   "metadata": {},
   "outputs": [],
   "source": [
    "# st.remove_metabolites( st.metabolites.query('__L_p'), destructive=True)\n",
    "# st.remove_metabolites(st.metabolites.get_by_id('orn__L_c'),destructive=True)\n",
    "# st.remove_metabolites(st.metabolites.get_by_id('orn_p'), destructive=True )\n",
    "# st.remove_metabolites(st.metabolites.get_by_id('a_gal__D_c'), destructive=True)\n",
    "# st.remove_metabolites([st.metabolites.glc__aD_c,st.metabolites.glc__aD_e,st.metabolites.glc__bD_c], destructive=True)"
   ]
  },
  {
   "cell_type": "code",
   "execution_count": 13,
   "id": "b5676535",
   "metadata": {},
   "outputs": [],
   "source": [
    "# lb.remove_metabolites( [met_p for met_p in lb.metabolites.query('__L_p') if met_p.id not in ['arab__L_p','hom__L_p']],\n",
    "#                      destructive=True)\n",
    "# lb.remove_metabolites(lb.metabolites.get_by_id('gly_p'), destructive=True)\n",
    "# lb.remove_metabolites([lb.metabolites.get_by_id('orn__L_c'),lb.metabolites.get_by_id('orn__L_e')],destructive=True)\n",
    "# lb.remove_metabolites(lb.metabolites.get_by_id('orn_p'), destructive=True )\n",
    "# lb.remove_metabolites( lb.metabolites.get_by_id('ade_p'), destructive=True  )\n",
    "# lb.remove_reactions([lb.reactions.PKETX, lb.reactions.PKETF])\n",
    "# lb.remove_reactions([lb.reactions.GAPD_1])\n",
    "# lb.remove_reactions([lb.reactions.ARGORNt7, lb.reactions.GLUABUTt7, lb.reactions.PTRCORNt7 ])\n",
    "# lb.remove_metabolites(lb.metabolites.get_by_id('g3ps_e'),destructive=True)\n",
    "# lb.remove_metabolites([ lb.metabolites.glc__aD_c,lb.metabolites.glc__aD_e ], destructive=True)\n",
    "# lb.remove_metabolites([lb.metabolites.g6p_B_c,lb.metabolites.g6p_A_c ], destructive=True)\n",
    "# lb.remove_reactions([lb.reactions.GAL6PI])\n",
    "# lb.remove_reactions([lb.reactions.UGLT])\n",
    "# lb.remove_reactions([lb.reactions.LCTSabc])"
   ]
  },
  {
   "cell_type": "code",
   "execution_count": 14,
   "id": "139620ec",
   "metadata": {},
   "outputs": [],
   "source": [
    "# #homefermentation assumption\n",
    "# lb.remove_metabolites( lb.metabolites.get_by_id('lac__D_c'),destructive=True )\n",
    "# st.remove_metabolites( st.metabolites.get_by_id('lac__D_c'),destructive=True )"
   ]
  },
  {
   "cell_type": "code",
   "execution_count": 15,
   "id": "e6cf29a4",
   "metadata": {},
   "outputs": [],
   "source": [
    "# #No gene reaction rule\n",
    "# st.remove_reactions(['METS'])"
   ]
  },
  {
   "cell_type": "markdown",
   "id": "a895464a",
   "metadata": {},
   "source": [
    "# 6. Add casein proteolysis"
   ]
  },
  {
   "cell_type": "code",
   "execution_count": 16,
   "id": "1461c3b5",
   "metadata": {},
   "outputs": [
    {
     "name": "stdout",
     "output_type": "stream",
     "text": [
      "-2.8200000000000003\n",
      "C141H270N35O73S1\n"
     ]
    }
   ],
   "source": [
    "# casein_elements = {'C':0,'H':0,'N':0,'O':0,'S':0}\n",
    "# temp_coeff = [ np.round(v/13, 2)  for v in list(milkAA_total['conc(mmol/L)'])]\n",
    "# milkAA_total['temp_coeff'] = temp_coeff\n",
    "# casein_charge = 0\n",
    "# for i in range(len(milkAA_total['aa'])):\n",
    "#     aa_elements = lb.metabolites.get_by_id(list(milkAA_total['aa'])[i]+'_c').elements\n",
    "#     for k in aa_elements.keys():\n",
    "#         casein_elements[k] = casein_elements[k] + aa_elements[k]*list(milkAA_total['temp_coeff'])[i]\n",
    "#     casein_charge += lb.metabolites.get_by_id(list(milkAA_total['aa'])[i]+'_c').charge * list(milkAA_total['temp_coeff'])[i]\n",
    "# formula=''\n",
    "# for k in casein_elements.keys():\n",
    "#     casein_elements[k] = int(np.round(casein_elements[k],1))\n",
    "#     formula += k+str(casein_elements[k])\n",
    "\n",
    "    \n",
    "# print(casein_charge)\n",
    "# print(formula)"
   ]
  },
  {
   "cell_type": "code",
   "execution_count": 17,
   "id": "f518de16",
   "metadata": {},
   "outputs": [
    {
     "name": "stdout",
     "output_type": "stream",
     "text": [
      "3655.9082000000003\n",
      "caspep_e <=>\n",
      "caspep_e --> caspep_c\n",
      "caspep_c --> 0.87 his__L_c + 1.15 ile__L_c + 2.48 leu__L_c + 1.99 lys__L_c + 0.74 met__L_c + 1.06 phe__L_c + 1.53 thr__L_c + 0.19 trp__L_c + 1.56 val__L_c + 1.42 ala__L_c + 0.72 arg__L_c + 2.1 asn__L_c + 0.26 cys__L_c + 5.53 glu__L_c + 0.84 gly_c + 2.13 pro__L_c + 2.11 ser__L_c + 1.01 tyr__L_c\n"
     ]
    }
   ],
   "source": [
    "# # assume length of oligopeptide is ~ 30\n",
    "# caspep_e = Metabolite('caspep_e','C141H270N35O73S1','Casein peptide',-3,'C_e')\n",
    "# caspep_c = Metabolite('caspep_c','C141H270N35O73S1','Casein peptide',-3,'C_c')\n",
    "\n",
    "# EX_caspep_e = Reaction('EX_caspep_e','Casein peptide exchange','',-1000.0,1000.0)\n",
    "# EX_caspep_e_rxn = 'caspep_e <=>'\n",
    "# CASPEPt2r = Reaction('CASPEPt2r','Casein peptide uptake','',0.0,1000.0)\n",
    "# CASPEPt2r_rxn = 'caspep_e --> caspep_c'\n",
    "\n",
    "# PROLYSIS = Reaction('PROLYSIS','Casein proteolysis','',0,1000.0)\n",
    "# PROLYSIS_rxn = 'caspep_c --> '\n",
    "# for i in range(len(milkAA_total['aa'])):\n",
    "#     PROLYSIS_rxn = PROLYSIS_rxn + str(list(milkAA_total['temp_coeff'])[i]) + ' ' \\\n",
    "#     + list(milkAA_total['aa'])[i]+'_c + '\n",
    "# PROLYSIS_rxn = PROLYSIS_rxn[:-3]\n",
    "\n",
    "\n",
    "# print( caspep_e.formula_weight )\n",
    "# print(EX_caspep_e_rxn)\n",
    "# print(CASPEPt2r_rxn)\n",
    "# print(PROLYSIS_rxn)"
   ]
  },
  {
   "cell_type": "code",
   "execution_count": 18,
   "id": "e5cae241",
   "metadata": {},
   "outputs": [],
   "source": [
    "# lb.add_metabolites([ caspep_e, caspep_c ])\n",
    "# lb.add_reactions([ EX_caspep_e, CASPEPt2r, PROLYSIS ])\n",
    "# lb.reactions.EX_caspep_e.build_reaction_from_string(  EX_caspep_e_rxn )\n",
    "# lb.reactions.CASPEPt2r.build_reaction_from_string( CASPEPt2r_rxn )\n",
    "# lb.reactions.PROLYSIS.build_reaction_from_string( PROLYSIS_rxn )\n",
    "\n",
    "# st.add_metabolites([ caspep_e, caspep_c ])\n",
    "# st.add_reactions([ EX_caspep_e, CASPEPt2r, PROLYSIS ])\n",
    "# st.reactions.EX_caspep_e.build_reaction_from_string(  EX_caspep_e_rxn )\n",
    "# st.reactions.CASPEPt2r.build_reaction_from_string( CASPEPt2r_rxn )\n",
    "# st.reactions.PROLYSIS.build_reaction_from_string( PROLYSIS_rxn )"
   ]
  },
  {
   "cell_type": "markdown",
   "id": "ab44d070",
   "metadata": {},
   "source": [
    "# 7. Fix direction of glycolytic reactions\n",
    "* fix for GAPD, PGK, PGM,ENO, LDH_L, PTAr, ACKr"
   ]
  },
  {
   "cell_type": "code",
   "execution_count": 19,
   "id": "478e99dc",
   "metadata": {},
   "outputs": [],
   "source": [
    "# fix_list = ['GAPD', 'PGK', 'PGM','ENO', 'LDH_L', 'PTAr', 'ACKr']\n",
    "# dirs = [1,-1,-1,1,-1,1,-1]\n",
    "# fix_dir_dict = {fix_list[i]:dirs[i] for i in range(len(dirs))}\n",
    "# for model in [st,lb]:\n",
    "#     for rxn_id in fix_dir_dict.keys():\n",
    "#         if fix_dir_dict[rxn_id] == 1:\n",
    "#             model.reactions.get_by_id(rxn_id).lower_bound = 0.0\n",
    "#         else:\n",
    "#             model.reactions.get_by_id(rxn_id).upper_bound = 0.0"
   ]
  },
  {
   "cell_type": "code",
   "execution_count": 20,
   "id": "0d51e71c",
   "metadata": {},
   "outputs": [],
   "source": [
    "# lb.id = 'lb'\n",
    "# st.id = 'st'\n",
    "# cobra.io.write_sbml_model(lb,'../data/GSMMs/lb.xml' )\n",
    "# cobra.io.write_sbml_model(st,'../data/GSMMs/st.xml' )"
   ]
  },
  {
   "cell_type": "code",
   "execution_count": 21,
   "id": "3d001a4d",
   "metadata": {},
   "outputs": [],
   "source": [
    "# cobra.io.save_json_model( lb , \"../../Figures/lb.json\")\n",
    "# cobra.io.save_json_model( st , \"../../Figures/st.json\")"
   ]
  },
  {
   "cell_type": "markdown",
   "id": "979c5a07",
   "metadata": {},
   "source": [
    "# 8. Adjust biomass:\n",
    "### a. LB from AGORA https://www.nature.com/articles/nbt.3703\n",
    "### b. ST from https://doi.org/10.1128/AEM.00138-09"
   ]
  },
  {
   "cell_type": "code",
   "execution_count": 9,
   "id": "d060af5e",
   "metadata": {},
   "outputs": [],
   "source": [
    "aa_names = {'A':'ala__L_c', 'C':'cys__L_c', 'D':'asp__L_c', 'E':'glu__L_c', 'F':'phe__L_c', 'G':'gly_c',\n",
    "            'H':'his__L_c', 'I':'ile__L_c', 'K':'lys__L_c', 'L':'leu__L_c', 'M':'met__L_c', 'N':'asn__L_c',\n",
    "            'P':'pro__L_c','Q':'gln__L_c', 'R':'arg__L_c', 'S':'ser__L_c', 'T':'thr__L_c', 'V':'val__L_c',\n",
    "            'W':'trp__L_c', 'Y':'tyr__L_c'}\n",
    "nu_names = {'A':'datp_c','T':'dttp_c','C':'dctp_c','G':'dgtp_c'}\n",
    "rev_aa_names = {aa_names[x]:x for x in aa_names.keys() }"
   ]
  },
  {
   "cell_type": "code",
   "execution_count": 10,
   "id": "bb7bae35",
   "metadata": {},
   "outputs": [],
   "source": [
    "st_biomass = {'proteins':0.46,'lipids':0.034,'PS':0.12,'DNA':0.023,'RNA':0.107,'other':0.256}\n",
    "lb_biomass = {'proteins':0,'DNA':0,'RNA':0,'other':0}\n",
    "aa_ids = [ ID.replace('__L','_L').replace('_c','[c]') for ID in list(aa_names.values())]\n",
    "for aa_id in aa_ids:\n",
    "    lb_biomass['proteins'] += abs(ref_lb.reactions.biomass205.metabolites[ref_lb.metabolites.get_by_id(aa_id)])*\\\n",
    "                ref_lb.metabolites.get_by_id(aa_id).formula_weight/1000\n",
    "dna_ids = ['datp[c]','dttp[c]','dctp[c]','dgtp[c]']\n",
    "rna_ids = ['atp[c]','utp[c]','ctp[c]','gtp[c]']\n",
    "for dna_id in dna_ids:\n",
    "    lb_biomass['DNA'] += abs(ref_lb.reactions.biomass205.metabolites[ref_lb.metabolites.get_by_id(dna_id)])*\\\n",
    "                ref_lb.metabolites.get_by_id(dna_id).formula_weight/1000\n",
    "for rna_id in rna_ids:\n",
    "    if rna_id == 'atp[c]':\n",
    "        rna_id = 'utp[c]'\n",
    "    lb_biomass['RNA'] += abs(ref_lb.reactions.biomass205.metabolites[ref_lb.metabolites.get_by_id(rna_id)])*\\\n",
    "                ref_lb.metabolites.get_by_id(rna_id).formula_weight/1000\n",
    "lb_biomass['other'] = 1 - (lb_biomass['proteins']+lb_biomass['DNA']+lb_biomass['RNA'])"
   ]
  },
  {
   "cell_type": "code",
   "execution_count": null,
   "id": "04b53362",
   "metadata": {},
   "outputs": [],
   "source": [
    "# st_aas,lb_aas = {aa:0 for aa in aa_names.keys() },{aa:0 for aa in aa_names.keys() }\n",
    "# stnr_records = SeqIO.parse( '../data/MAGs/st_all/st_nr.faa', \"fasta\")\n",
    "# lbnr_records = SeqIO.parse( '../data/MAGs/lb_all/lb_nr.faa', \"fasta\")\n",
    "# for r in stnr_records:\n",
    "#     for aa in aa_names.keys():\n",
    "#         st_aas[aa] = str(r.seq).count(aa) + st_aas[aa]\n",
    "# for r in lbnr_records:\n",
    "#     for aa in aa_names.keys():\n",
    "#         lb_aas[aa] = str(r.seq).count(aa) + lb_aas[aa]\n",
    "# sum_st, sum_lb = sum(st_aas.values()), sum(lb_aas.values())\n",
    "# for aa in aa_names.keys():\n",
    "#     st_aas[aa] = st_aas[aa]/sum_st\n",
    "#     lb_aas[aa] = lb_aas[aa]/sum_lb"
   ]
  },
  {
   "cell_type": "code",
   "execution_count": 11,
   "id": "583b1318",
   "metadata": {},
   "outputs": [],
   "source": [
    "st_aas,lb_aas = {aa_id: abs(ref_st.reactions.biomass525.metabolites[ref_st.metabolites.get_by_id(aa_id)]) \\\n",
    "        for aa_id in aa_ids }, {aa_id: abs(ref_lb.reactions.biomass205.metabolites[ref_lb.metabolites.get_by_id(aa_id)]) \\\n",
    "                                for aa_id in aa_ids }\n",
    "sum_st, sum_lb = sum(st_aas.values()), sum(lb_aas.values())\n",
    "st_aa_freq, lb_aa_freq = {},{}\n",
    "for aa_id in st_aas.keys():\n",
    "    st_aa_freq[aa_id.replace('_L','__L').replace('[c]','_c')] = st_aas[aa_id]/sum_st\n",
    "    lb_aa_freq[aa_id.replace('_L','__L').replace('[c]','_c')] = lb_aas[aa_id]/sum_lb\n",
    "\n",
    "st_rnas,lb_rnas = {rna_id: abs(ref_st.reactions.biomass525.metabolites[ref_st.metabolites.get_by_id(rna_id)]) \\\n",
    "    for rna_id in rna_ids}, {rna_id: abs(ref_lb.reactions.biomass205.metabolites[ref_lb.metabolites.get_by_id(rna_id)]) \\\n",
    "                                for rna_id in rna_ids }\n",
    "st_rnas['atp[c]'] = abs(ref_st.reactions.biomass525.metabolites[ref_st.metabolites.get_by_id('atp[c]')]) - \\\n",
    "           ref_st.reactions.biomass525.metabolites[ref_st.metabolites.get_by_id('adp[c]')] \n",
    "lb_rnas['atp[c]'] = abs( ref_lb.reactions.biomass205.metabolites[ref_lb.metabolites.get_by_id('atp[c]')]) - \\\n",
    "           ref_lb.reactions.biomass205.metabolites[ref_lb.metabolites.get_by_id('adp[c]')]                                               \n",
    "sum_st, sum_lb = sum(st_rnas.values()), sum(lb_rnas.values())\n",
    "st_rna_freq, lb_rna_freq = {},{}\n",
    "for rna_id in st_rnas.keys():\n",
    "    st_rna_freq[rna_id.replace('[c]','_c')] = st_rnas[rna_id]/sum_st\n",
    "    lb_rna_freq[rna_id.replace('[c]','_c')] = lb_rnas[rna_id]/sum_lb"
   ]
  },
  {
   "cell_type": "code",
   "execution_count": 12,
   "id": "6449dccb",
   "metadata": {},
   "outputs": [],
   "source": [
    "st_nus,lb_nus = {'A':0,'T':0,'G':0,'C':0},{'A':0,'T':0,'G':0,'C':0}\n",
    "g_files = {'ST':['../../meta_raw/s1/reassembled_bins/bin.2.strict.fa','../../meta_raw/s2/reassembled_bins/bin.1.strict.fa',\n",
    "                '../../meta_raw/s3/reassembled_bins/bin.1.orig.fa'],\n",
    "           'LB':['../../meta_raw/s1/reassembled_bins/bin.1.strict.fa','../../meta_raw/s2/reassembled_bins/bin.2.strict.fa',\n",
    "                '../../meta_raw/s3/reassembled_bins/bin.2.strict.fa']}\n",
    "for g_file in g_files['ST']:\n",
    "    genome = SeqIO.parse( g_file, \"fasta\")\n",
    "    for r in genome:\n",
    "        for nu in st_nus.keys():\n",
    "            st_nus[nu] = st_nus[nu] + str(r.seq).count(nu)\n",
    "for g_file in g_files['LB']:\n",
    "    genome = SeqIO.parse( g_file, \"fasta\")\n",
    "    for r in genome:\n",
    "        for nu in lb_nus.keys():\n",
    "            lb_nus[nu] = lb_nus[nu] + str(r.seq).count(nu)\n",
    "sum_st, sum_lb = sum( st_nus.values()), sum( lb_nus.values())\n",
    "for nu in lb_nus.keys():\n",
    "    st_nus[nu] = st_nus[nu]/sum_st\n",
    "    lb_nus[nu] = lb_nus[nu]/sum_lb"
   ]
  },
  {
   "cell_type": "code",
   "execution_count": 13,
   "id": "0f438efa",
   "metadata": {},
   "outputs": [
    {
     "name": "stdout",
     "output_type": "stream",
     "text": [
      "ST biomass:\n",
      "{'proteins': 0.46, 'lipids': 0.034, 'PS': 0.12, 'DNA': 0.023, 'RNA': 0.107, 'other': 0.256}\n",
      "LB biomass:\n",
      "{'proteins': 0.52914938001568, 'DNA': 0.025954382362103998, 'RNA': 0.061632282124351005, 'other': 0.38326395549786496}\n"
     ]
    }
   ],
   "source": [
    "print('ST biomass:')\n",
    "print(st_biomass)\n",
    "print('LB biomass:')\n",
    "print(lb_biomass)"
   ]
  },
  {
   "cell_type": "code",
   "execution_count": 14,
   "id": "6cf09fda",
   "metadata": {},
   "outputs": [
    {
     "data": {
      "text/plain": [
       "Text(0, 0.5, 'mol/mol(%)')"
      ]
     },
     "execution_count": 14,
     "metadata": {},
     "output_type": "execute_result"
    },
    {
     "data": {
      "image/png": "[encoded data removed]",
      "text/plain": [
       "<Figure size 864x576 with 4 Axes>"
      ]
     },
     "metadata": {
      "needs_background": "light"
     },
     "output_type": "display_data"
    }
   ],
   "source": [
    "fig, axs = plt.subplots(2,2,figsize=(12,8))\n",
    "axs[0][0].bar(st_biomass.keys(),st_biomass.values())\n",
    "axs[0][0].set_title('ST biomass(Ref paper)')\n",
    "axs[0][1].bar(lb_biomass.keys(),lb_biomass.values())\n",
    "axs[0][1].set_title('LB biomass(Ref GSMM)')\n",
    "X_axis = np.arange(len(st_aa_freq.keys()))\n",
    "axs[1][0].bar(X_axis - 0.2, st_aa_freq.values(), 0.4, label = 'ST')\n",
    "axs[1][0].bar(X_axis + 0.2, lb_aa_freq.values(), 0.4, label = 'LB')\n",
    "axs[1][0].set_xticks(X_axis, [ rev_aa_names[x] for x in list(st_aa_freq.keys())] );\n",
    "axs[1][0].set_title('Amino acid distribution(Ref GSMM)')\n",
    "axs[1][0].legend()\n",
    "X_axis = np.arange(len(st_nus.keys()))\n",
    "axs[1][1].bar(X_axis - 0.2, st_nus.values(), 0.4, label = 'ST')\n",
    "axs[1][1].bar(X_axis + 0.2, lb_nus.values(), 0.4, label = 'LB')\n",
    "axs[1][1].set_xticks(X_axis, list(st_nus.keys()) );\n",
    "axs[1][1].set_title('Nucleotide distribution(MAGs)')\n",
    "axs[1][1].legend()\n",
    "axs[0][0].set_ylabel('wt/wt(%)')\n",
    "axs[1][0].set_ylabel('mol/mol(%)')"
   ]
  },
  {
   "cell_type": "markdown",
   "id": "36cfe964",
   "metadata": {},
   "source": [
    "###  Biomass in ST"
   ]
  },
  {
   "cell_type": "code",
   "execution_count": 15,
   "id": "d8d79991",
   "metadata": {},
   "outputs": [],
   "source": [
    "# unit: mmol/gDW\n",
    "st_biomass_dict = { met.id:st.reactions.Growth.metabolites[met]  for met in st.reactions.Growth.reactants }\n",
    "lb_biomass_dict = { met.id:lb.reactions.Growth.metabolites[met]  for met in lb.reactions.Growth.reactants }\n",
    "\n",
    "st_GAM,lb_GAM = 18.15, 27.4 #REF:st_ch8, https://doi.org/10.1074/jbc.M606263200\n",
    "st_cp = 1000*st_biomass['proteins']/sum([st_aa_freq[aa]*st.metabolites.get_by_id(aa).\\\n",
    "                                    formula_weight for aa in st_aa_freq.keys()  ])\n",
    "st_caas = {aa:st_cp*st_aa_freq[aa] for aa in st_aa_freq.keys()}\n",
    "st_cdna = 1000*st_biomass['DNA']/sum( [st_nus[nu]*st.metabolites.get_by_id(nu_names[nu]).formula_weight \\\n",
    "                                    for nu in st_nus.keys()] )\n",
    "st_cdnu = { nu_names[nu]:st_cdna*st_nus[nu] for nu in st_nus.keys() }\n",
    "st_crna = 1000*st_biomass['RNA']/sum( [st_rna_freq[rna_id]*st.metabolites.get_by_id(rna_id).formula_weight \\\n",
    "                    for rna_id in st_rna_freq.keys()] )\n",
    "st_cnu = { rna_id: st_crna * st_rna_freq[rna_id] for rna_id in st_rna_freq.keys() }\n",
    "\n",
    "st_sum_ppi = sum(st_cdnu.values()) + sum(st_cnu.values())\n",
    "\n",
    "\n",
    "other_ids = []\n",
    "for k in st_biomass_dict.keys():\n",
    "    if k not in (list(st_caas.keys())+list(st_cdnu.keys())+list(st_cnu.keys()) ) and k != 'h2o_c':\n",
    "        other_ids.append(k)\n",
    "        \n",
    "\n",
    "st_cotrs = (1-(st_biomass['proteins']+st_biomass['DNA']+st_biomass['RNA']))/sum([ abs(st_biomass_dict[otr_id])/1000*\\\n",
    "     st.metabolites.get_by_id(otr_id).formula_weight for otr_id in other_ids ])\n",
    "st_cothers = { otr_id: st_cotrs * abs(st_biomass_dict[otr_id]) for otr_id in other_ids }\n",
    "\n",
    "st_growth = ''\n",
    "for aa_id in st_caas.keys():\n",
    "    st_growth += str(st_caas[aa_id])+' '+aa_id+' + '\n",
    "for dnu in st_cdnu:\n",
    "    st_growth += str(st_cdnu[dnu]) + ' ' + dnu + ' + '\n",
    "for nu in st_cnu:\n",
    "    if nu == 'atp_c':\n",
    "        st_growth += str(st_cnu[nu]+st_GAM) + ' ' + nu + ' + '\n",
    "    else:\n",
    "        st_growth += str(st_cnu[nu]) + ' ' + nu + ' + '\n",
    "for otr_id in st_cothers:\n",
    "    st_growth += str(st_cothers[otr_id]) + ' ' + otr_id + ' + '\n",
    "st_growth += str(st_GAM - 5) + ' h2o_c'\n",
    "st_growth += ' --> '+ str(st_GAM) + ' adp_c + ' + str(st_GAM) + ' pi_c + ' + str(st_GAM) + ' h_c + '\\\n",
    "                    + str(st_sum_ppi) + ' ppi_c '\n",
    "\n",
    "st_EM = st_growth.split('-->')[1].strip() + ' --> ' + st_growth.split('-->')[0]"
   ]
  },
  {
   "cell_type": "code",
   "execution_count": 16,
   "id": "81363460",
   "metadata": {},
   "outputs": [
    {
     "name": "stdout",
     "output_type": "stream",
     "text": [
      "0.34979774305461864 ala__L_c + 0.06224253724953 cys__L_c + 0.16416136931579794 asp__L_c + 0.1790819505647581 glu__L_c + 0.12630380451534207 phe__L_c + 0.4167689783464821 gly_c + 0.06479085780695906 his__L_c + 0.19764698696172964 ile__L_c + 0.23332207574264704 lys__L_c + 0.30684773420857303 leu__L_c + 0.10446505408906283 met__L_c + 0.16416136931579794 asn__L_c + 0.15069577207986345 pro__L_c + 0.1790819505647581 gln__L_c + 0.20164819299755019 arg__L_c + 0.14668757092859566 ser__L_c + 0.17253452250614268 thr__L_c + 0.2879189518083451 val__L_c + 0.038582958272334524 trp__L_c + 0.09390942487917964 tyr__L_c + 0.01465323901792241 datp_c + 0.01455613305902448 dttp_c + 0.009162155225282317 dgtp_c + 0.009267314228779635 dctp_c + 18.20622475056611 atp_c + 0.04636476050504721 utp_c + 0.04293045622296665 ctp_c + 0.06911578685111122 gtp_c + 0.00045382122020213737 10fthf_c + 0.00045382122020213737 amet_c + 0.010592553592610427 ca2_c + 0.010592553592610427 cl_c + 0.001172201896127494 coa_c + 0.00020350727363324547 cobalt2_c + 0.0014428665700597103 cu2_c + 0.00045382122020213737 fad_c + 0.013665513424472432 fe2_c + 0.015889847925283807 fe3_c + 0.0020350727363324544 gtca1_45_BS_c + 0.0020350727363324544 gtca2_45_BS_c + 0.0020350727363324544 gtca3_45_BS_c + 0.3972319526229408 k_c + 0.00010175363681662274 lipo1_24_BS_c + 0.00010175363681662274 lipo2_24_BS_c + 0.00010175363681662274 lipo3_24_BS_c + 0.00010175363681662274 lipo4_24_BS_c + 0.017654255987684043 mg2_c + 0.00045382122020213737 mlthf_c + 0.001406235260805726 mn2_c + 0.00020350727363324547 mql8_c + 0.0037262181802247244 nad_c + 0.0009096775131406073 nadp_c + 0.020350727363324547 peptido_BS_c + 0.00045382122020213737 pydx5p_c + 0.00045382122020213737 ribflv_c + 0.008828145530210187 so4_c + 0.00045382122020213737 thf_c + 0.00045382122020213737 thmpp_c + 0.000693959803089367 zn2_c + 13.149999999999999 h2o_c --> 18.15 adp_c + 18.15 pi_c + 18.15 h_c + 0.2622745956762452 ppi_c \n"
     ]
    }
   ],
   "source": [
    "print(st_growth)"
   ]
  },
  {
   "cell_type": "markdown",
   "id": "cb99cb84",
   "metadata": {},
   "source": [
    "###  Biomass in LB"
   ]
  },
  {
   "cell_type": "code",
   "execution_count": 17,
   "id": "0fb0f573",
   "metadata": {},
   "outputs": [],
   "source": [
    "# add ptrc_c to LB biomass, 0.0079397 mmol/gDW\n",
    "\n",
    "lb_cp = 1000*lb_biomass['proteins']/sum([lb_aa_freq[aa]*lb.metabolites.get_by_id(aa).\\\n",
    "                                    formula_weight for aa in lb_aa_freq.keys()  ])\n",
    "lb_caas = {aa:lb_cp*lb_aa_freq[aa] for aa in lb_aa_freq.keys()}\n",
    "lb_cdna = 1000*lb_biomass['DNA']/sum( [lb_nus[nu]*lb.metabolites.get_by_id(nu_names[nu]).formula_weight \\\n",
    "                                    for nu in lb_nus.keys()] )\n",
    "lb_cdnu = { nu_names[nu]:lb_cdna*lb_nus[nu] for nu in lb_nus.keys() }\n",
    "lb_crna = 1000*lb_biomass['RNA']/sum( [lb_rna_freq[rna_id]*lb.metabolites.get_by_id(rna_id).formula_weight \\\n",
    "                    for rna_id in lb_rna_freq.keys()] )\n",
    "lb_cnu = { rna_id: lb_crna * lb_rna_freq[rna_id] for rna_id in lb_rna_freq.keys() }\n",
    "\n",
    "lb_sum_ppi = sum(lb_cdnu.values()) + sum(lb_cnu.values())\n",
    "\n",
    "other_ids = []\n",
    "for k in lb_biomass_dict.keys():\n",
    "    if k not in (list(lb_caas.keys())+list(lb_cdnu.keys())+list(lb_cnu.keys()) ) and k != 'h2o_c':\n",
    "        other_ids.append(k)\n",
    "\n",
    "lb_cotrs = lb_biomass['other']/sum([ abs(lb_biomass_dict[otr_id])/1000*\\\n",
    "     lb.metabolites.get_by_id(otr_id).formula_weight for otr_id in other_ids ])\n",
    "lb_cothers = { otr_id: lb_cotrs * abs(lb_biomass_dict[otr_id]) for otr_id in other_ids }\n",
    "\n",
    "lb_growth = ''\n",
    "for aa_id in lb_caas.keys():\n",
    "    lb_growth += str(lb_caas[aa_id])+' '+aa_id+' + '\n",
    "for dnu in lb_cdnu:\n",
    "    lb_growth += str(lb_cdnu[dnu]) + ' ' + dnu + ' + '\n",
    "for nu in lb_cnu:\n",
    "    if nu == 'atp_c':\n",
    "        lb_growth += str(lb_cnu[nu]+lb_GAM) + ' ' + nu + ' + '\n",
    "    else:\n",
    "        lb_growth += str(lb_cnu[nu]) + ' ' + nu + ' + '\n",
    "for otr_id in lb_cothers:\n",
    "    lb_growth += str(lb_cothers[otr_id]) + ' ' + otr_id + ' + '\n",
    "lb_growth += str(lb_GAM - 5) + ' h2o_c + 0.0079397 ptrc_c'\n",
    "lb_growth += ' --> '+ str(lb_GAM) + ' adp_c + ' + str(lb_GAM) + ' pi_c + ' + str(lb_GAM) + ' h_c + '\\\n",
    "                    + str(lb_sum_ppi) + ' ppi_c '\n",
    "\n",
    "lb_EM = lb_growth.split('-->')[1].strip() + ' --> ' + lb_growth.split('-->')[0]"
   ]
  },
  {
   "cell_type": "code",
   "execution_count": 18,
   "id": "1cbe284a",
   "metadata": {},
   "outputs": [
    {
     "name": "stdout",
     "output_type": "stream",
     "text": [
      "27.4 adp_c + 27.4 pi_c + 27.4 h_c + 0.1773654687222399 ppi_c --> 0.26756 ala__L_c + 0.056954 cys__L_c + 0.14833 asp__L_c + 0.26101 glu__L_c + 0.17619 phe__L_c + 0.40933 gly_c + 0.081948 his__L_c + 0.27043 ile__L_c + 0.3237 lys__L_c + 0.34746 leu__L_c + 0.1135 met__L_c + 0.14833 asn__L_c + 0.16103 pro__L_c + 0.26101 gln__L_c + 0.1934 arg__L_c + 0.21675 ser__L_c + 0.18684 thr__L_c + 0.30772 val__L_c + 0.054496 trp__L_c + 0.11104 tyr__L_c + 0.013399066183070189 datp_c + 0.0134754593212057 dttp_c + 0.013429197465926426 dgtp_c + 0.01344567257484782 dctp_c + 27.432423393598995 atp_c + 0.02660320593987164 utp_c + 0.024622928325002895 ctp_c + 0.03996654531331718 gtp_c + 0.0004242275998622897 10fthf_c + 0.0004242275998622897 amet_c + 0.009901814606651203 ca2_c + 0.009901814606651203 cl_c + 0.0010957627691510264 coa_c + 0.00019023659186649764 cobalt2_c + 0.0013487774363334683 cu2_c + 0.0004242275998622897 fad_c + 0.012774387143835315 fe2_c + 0.014853673092936136 fe3_c + 0.0019023659186649764 gtca1_45_BS_c + 0.0019023659186649764 gtca2_45_BS_c + 0.0019023659186649764 gtca3_45_BS_c + 0.37132851076197276 k_c + 9.511829593324882e-05 lipo1_24_BS_c + 9.511829593324882e-05 lipo2_24_BS_c + 9.511829593324882e-05 lipo3_24_BS_c + 9.511829593324882e-05 lipo4_24_BS_c + 0.016503024344418672 mg2_c + 0.0004242275998622897 mlthf_c + 0.0013145348497974987 mn2_c + 0.00019023659186649764 mql8_c + 0.0034832319970755717 nad_c + 0.0008503575656432445 nadp_c + 0.019023659186649763 peptido_BS_c + 0.0004242275998622897 pydx5p_c + 0.0004242275998622897 ribflv_c + 0.008252463355168667 so4_c + 0.0004242275998622897 thf_c + 0.0004242275998622897 thmpp_c + 0.000648706778264757 zn2_c + 22.4 h2o_c + 0.0079397 ptrc_c \n"
     ]
    }
   ],
   "source": [
    "print(lb_EM)"
   ]
  },
  {
   "cell_type": "code",
   "execution_count": 19,
   "id": "fa994123",
   "metadata": {},
   "outputs": [],
   "source": [
    "# growth_dict = {'st':st_growth,'lb':lb_growth}\n",
    "# import pickle\n",
    "# with open('../data/GSMMs/growth_funcs.pickle', 'wb') as handle:\n",
    "#     pickle.dump(growth_dict, handle )"
   ]
  },
  {
   "cell_type": "code",
   "execution_count": null,
   "id": "27b2f04f",
   "metadata": {},
   "outputs": [],
   "source": []
  }
 ],
 "metadata": {
  "kernelspec": {
   "display_name": "Python 3 (ipykernel)",
   "language": "python",
   "name": "python3"
  },
  "language_info": {
   "codemirror_mode": {
    "name": "ipython",
    "version": 3
   },
   "file_extension": ".py",
   "mimetype": "text/x-python",
   "name": "python",
   "nbconvert_exporter": "python",
   "pygments_lexer": "ipython3",
   "version": "3.8.10"
  }
 },
 "nbformat": 4,
 "nbformat_minor": 5
}
